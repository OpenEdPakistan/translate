{
  "nbformat": 4,
  "nbformat_minor": 0,
  "metadata": {
    "colab": {
      "name": "English-to-Urdu-Translation",
      "provenance": [],
      "collapsed_sections": []
    },
    "kernelspec": {
      "name": "python3",
      "display_name": "Python 3"
    },
    "language_info": {
      "name": "python"
    }
  },
  "cells": [
    {
      "cell_type": "code",
      "metadata": {
        "id": "gDS39kNTLJ2O"
      },
      "source": [
        "# Install required packages\n",
        "!pip install transformers\n",
        "!pip install sentencepiece"
      ],
      "execution_count": null,
      "outputs": []
    },
    {
      "cell_type": "code",
      "metadata": {
        "id": "qBjSSO0NLTpM"
      },
      "source": [
        "from transformers import AutoTokenizer, AutoModelForSeq2SeqLM\n",
        "\n",
        "# Load English-to-Urdu tokenizer\n",
        "tokenizer = AutoTokenizer.from_pretrained(\"Helsinki-NLP/opus-mt-en-ur\")\n",
        "\n",
        "# Load English-to-Urdu model\n",
        "model = AutoModelForSeq2SeqLM.from_pretrained(\"Helsinki-NLP/opus-mt-en-ur\")"
      ],
      "execution_count": null,
      "outputs": []
    },
    {
      "cell_type": "code",
      "metadata": {
        "id": "NU0Z7KBpN8LT"
      },
      "source": [
        "# Define code-block to translate English to Urdu\n",
        "def translator(text):\n",
        "  inputs = tokenizer.encode(text, return_tensors=\"pt\", padding=True)\n",
        "  outputs = model.generate(inputs)\n",
        "  tokenizedText = tokenizer.decode(outputs[0], skip_special_tokens=True)\n",
        "  \n",
        "  return tokenizedText"
      ],
      "execution_count": null,
      "outputs": []
    },
    {
      "cell_type": "code",
      "metadata": {
        "id": "E2mEw0q3MYB-"
      },
      "source": [
        "# Array of English text\n",
        "texts = [\"Pakistan, officially the Islamic Republic of Pakistan, is a country in South Asia.\"\n",
        "         \"It is the world's fifth-most populous country, and has the world's second-largest Muslim population.\" \n",
        "         \"Pakistan has a coastline along the Arabian Sea and Gulf of Oman in the south, and is bordered by India to the east, Afghanistan to the west, Iran to the southwest, and China to the northeast.\" \n",
        "         \"It is separated narrowly from Tajikistan by Afghanistan's Wakhan Corridor in the north, and also shares a maritime border with Oman.\"]\n",
        "\n",
        "# Iterate each statement in array\n",
        "for text in texts:\n",
        "  print(\"English: \", text) # Display English text\n",
        "  print(\"Urdu: \", translator(text)) # Display Urdu translation\n",
        "  print(\"*\"*50,\"\\n\") # Display line-break\n",
        "\n"
      ],
      "execution_count": null,
      "outputs": []
    },
    {
      "cell_type": "code",
      "metadata": {
        "id": "rUmNkvFBRoqz"
      },
      "source": [
        ""
      ],
      "execution_count": null,
      "outputs": []
    }
  ]
}