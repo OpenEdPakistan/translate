{
 "cells": [
  {
   "cell_type": "markdown",
   "metadata": {},
   "source": [
    "# 1. Subscripton Key from Azure Portal"
   ]
  },
  {
   "cell_type": "code",
   "execution_count": 1,
   "metadata": {},
   "outputs": [],
   "source": [
    "import os, requests, uuid, json\n",
    "\n",
    "subscription_key = 'e5863fb1f4b44a16ba3b39b2f8ec40e4'\n",
    "endpoint = 'https://api.cognitive.microsofttranslator.com/translate?api-version=3.0'\n",
    "params = '&from=en&to=ur'\n",
    "constructed_url = endpoint + params\n",
    "\n",
    "headers = {\n",
    "    'Ocp-Apim-Subscription-Key': subscription_key,\n",
    "    'Ocp-Apim-Subscription-Region' : 'southcentralus',\n",
    "    'Content-type': 'application/json',\n",
    "    'X-ClientTraceId': str(uuid.uuid4())\n",
    "}"
   ]
  },
  {
   "cell_type": "markdown",
   "metadata": {},
   "source": [
    "# 2. Call the Translate API"
   ]
  },
  {
   "cell_type": "code",
   "execution_count": 2,
   "metadata": {},
   "outputs": [],
   "source": [
    "body = [{ 'text' : 'Welcome to Open Pakistan Education Network.' }, { 'text' : 'Learn something new or update your existing knowledge.' }, { 'text' : 'All content is available in Urdu and English.' }]\n",
    "request = requests.post(constructed_url, headers=headers, json=body)\n",
    "response = request.json()"
   ]
  },
  {
   "cell_type": "markdown",
   "metadata": {},
   "source": [
    "# 3. Serialize output from API and display to user"
   ]
  },
  {
   "cell_type": "code",
   "execution_count": 3,
   "metadata": {},
   "outputs": [
    {
     "name": "stdout",
     "output_type": "stream",
     "text": [
      "[\n",
      "    {\n",
      "        \"translations\": [\n",
      "            {\n",
      "                \"text\": \"\\u067e\\u0627\\u06a9\\u0633\\u062a\\u0627\\u0646 \\u0627\\u06cc\\u062c\\u0648\\u06a9\\u06cc\\u0634\\u0646 \\u0646\\u06cc\\u0679 \\u0648\\u0631\\u06a9 \\u06a9\\u06be\\u0648\\u0644\\u0646\\u06d2 \\u0645\\u06cc\\u06ba \\u062e\\u0648\\u0634 \\u0622\\u0645\\u062f\\u06cc\\u062f\\u06d4\",\n",
      "                \"to\": \"ur\"\n",
      "            }\n",
      "        ]\n",
      "    },\n",
      "    {\n",
      "        \"translations\": [\n",
      "            {\n",
      "                \"text\": \"\\u06a9\\u0686\\u06be \\u0646\\u06cc\\u0627 \\u0633\\u06cc\\u06a9\\u06be\\u06cc\\u06ba \\u06cc\\u0627 \\u0627\\u067e\\u0646\\u06d2 \\u0645\\u0648\\u062c\\u0648\\u062f\\u06c1 \\u0639\\u0644\\u0645 \\u06a9\\u0648 \\u0627\\u067e \\u0688\\u06cc\\u0679 \\u06a9\\u0631\\u06cc\\u06ba\\u06d4\",\n",
      "                \"to\": \"ur\"\n",
      "            }\n",
      "        ]\n",
      "    },\n",
      "    {\n",
      "        \"translations\": [\n",
      "            {\n",
      "                \"text\": \"\\u062a\\u0645\\u0627\\u0645 \\u0645\\u0648\\u0627\\u062f \\u0627\\u0631\\u062f\\u0648 \\u0627\\u0648\\u0631 \\u0627\\u0646\\u06af\\u0631\\u06cc\\u0632\\u06cc \\u0645\\u06cc\\u06ba \\u062f\\u0633\\u062a\\u06cc\\u0627\\u0628 \\u06c1\\u06d2\\u06d4\",\n",
      "                \"to\": \"ur\"\n",
      "            }\n",
      "        ]\n",
      "    }\n",
      "]\n"
     ]
    }
   ],
   "source": [
    "print(json.dumps(response, sort_keys=True, indent=4, separators=(',', ': ')))"
   ]
  }
 ],
 "metadata": {
  "kernelspec": {
   "display_name": "Python 3",
   "language": "python",
   "name": "python3"
  },
  "language_info": {
   "codemirror_mode": {
    "name": "ipython",
    "version": 3
   },
   "file_extension": ".py",
   "mimetype": "text/x-python",
   "name": "python",
   "nbconvert_exporter": "python",
   "pygments_lexer": "ipython3",
   "version": "3.8.3"
  }
 },
 "nbformat": 4,
 "nbformat_minor": 4
}
